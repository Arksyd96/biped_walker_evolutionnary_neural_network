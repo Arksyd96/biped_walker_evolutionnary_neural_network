{
  "cells": [
    {
      "cell_type": "code",
      "execution_count": 1,
      "metadata": {
        "colab": {
          "base_uri": "https://localhost:8080/"
        },
        "id": "NortBR4TvkZF",
        "outputId": "5ec26fde-d72c-47bb-97ff-aebb0db69a74"
      },
      "outputs": [
        {
          "name": "stdout",
          "output_type": "stream",
          "text": [
            "importing done\n"
          ]
        }
      ],
      "source": [
        "import tensorflow as tf\n",
        "import numpy as np\n",
        "from tensorflow.keras.layers import Conv2D, Flatten, Dense, Input\n",
        "from tensorflow.keras.models import Sequential, Model\n",
        "from tqdm import tqdm\n",
        "import time\n",
        "import gym\n",
        "\n",
        "print('importing done')"
      ]
    },
    {
      "cell_type": "markdown",
      "metadata": {
        "id": "DWeTk0GrF69T"
      },
      "source": [
        "## Environment"
      ]
    },
    {
      "cell_type": "code",
      "execution_count": 16,
      "metadata": {
        "id": "AmLvKbRQTdPT"
      },
      "outputs": [],
      "source": [
        "# constants\n",
        "NUM_AGENTS = 20 # Number of agent (Model) to create\n",
        "MUTATION_RATE = 0.4 # Mutation rate of the agent\n",
        "SIMULATION_STEPS = 100 # Number of steps to simulate each agent\n",
        "\n",
        "initializer = tf.keras.initializers.TruncatedNormal(\n",
        "    mean=0.0, stddev=0.05, seed=7\n",
        ")"
      ]
    },
    {
      "cell_type": "code",
      "execution_count": 13,
      "metadata": {
        "id": "1T2TtcZA4Y5l"
      },
      "outputs": [],
      "source": [
        "class EvolutionnaryNeuralNetwork:\n",
        "    def __init__(self, input_shape=24, hidden_layers=[], env_name=\"BipedalWalker-v3\", weights=None):\n",
        "        self.model = self.__init_model(input_shape, hidden_layers, weights)\n",
        "        self.__env = self.__init_env(env_name)\n",
        "        self.weights = weights  # Should be a dict\n",
        "        self.__reward = 0\n",
        "\n",
        "    def __init_model(self, input_shape, hidden_layers, weights):\n",
        "        input = Input(shape=(input_shape,), name='input')\n",
        "        for idx, layer in enumerate(hidden_layers):\n",
        "            if idx == 0:\n",
        "                X = Dense(layer, activation='tanh', name=str(idx + 1), kernel_initializer=initializer)(input)\n",
        "            else:\n",
        "                X = Dense(layer, activation='tanh', name=str(idx + 1), kernel_initializer=initializer)(X)\n",
        "        output = Dense(4, activation='tanh', name='output', kernel_initializer=initializer)(X)\n",
        "\n",
        "        model = Model(inputs=input, outputs=output)\n",
        "\n",
        "        if weights != None:\n",
        "            for layer in self.model:\n",
        "                if layer.name in weights:\n",
        "                    layer.set_weights(weights[layer.name])\n",
        "        return model\n",
        "\n",
        "    def __init_env(self, env_name):\n",
        "        return gym.make(env_name)\n",
        "\n",
        "    def get_layer_weights(self, layer_name):\n",
        "        for layer in self.model.layers:\n",
        "            if layer.name == layer_name:\n",
        "                return layer.get_weights()\n",
        "        return None\n",
        "\n",
        "    def get_all_weights(self):\n",
        "        weights = {}\n",
        "        for layer in self.model.layers:\n",
        "            weights[layer.name] = layer.get_weights()\n",
        "        return weights\n",
        "\n",
        "    def add_random_noise(self, layer_weights):\n",
        "        # updating neurone weights next\n",
        "        update_neurones = []\n",
        "        for neurone_weights in layer_weights[0]:\n",
        "            weights = np.array([w + np.random.normal(0, 0.1) if np.random.random() < MUTATION_RATE else w for w in neurone_weights])\n",
        "            weights[weights > 4] = 4\n",
        "            weights[weights < -4] = -4\n",
        "            update_neurones.append(weights)\n",
        "        \n",
        "        # updating biases first\n",
        "        updated_biases = np.array([w + np.random.normal(0, 0.1) if np.random.random() < MUTATION_RATE else w for w in layer_weights[1]])\n",
        "        updated_biases[updated_biases > 4] = 4\n",
        "        updated_biases[updated_biases < -4] = -4\n",
        "        \n",
        "        # updating layer weights\n",
        "        return [np.array(update_neurones), updated_biases]\n",
        "\n",
        "    def mutate_layer(self, layer_name):\n",
        "        for layer in self.model.layers:\n",
        "            if layer.name == layer_name:\n",
        "                layer.set_weights(self.add_random_noise(layer.get_weights()))\n",
        "                break\n",
        "\n",
        "    def mutate(self):\n",
        "        for layer in self.model.layers:\n",
        "            layer.set_weights(self.add_random_noise(layer.get_weights()))\n",
        "                \n",
        "    def predict(self, state):\n",
        "        return self.model.predict(state)\n",
        "\n",
        "    def simulate(self, steps=300, render=False):\n",
        "        state = self.__env.reset()\n",
        "        for _ in range(steps):\n",
        "            action = self.model.predict(state.reshape(1, -1))[0]\n",
        "            state, reward, done, _ = self.__env.step(action)\n",
        "            self.__reward += reward\n",
        "            if render:\n",
        "                self.__env.render()\n",
        "            if done:\n",
        "                state = self.__env.reset()\n",
        "        if render:\n",
        "            self.__env.close()\n",
        "\n",
        "        return self.__reward\n",
        "\n",
        "    def get_reward(self):\n",
        "        return self.__reward\n"
      ]
    },
    {
      "cell_type": "code",
      "execution_count": 14,
      "metadata": {},
      "outputs": [],
      "source": [
        "enn = EvolutionnaryNeuralNetwork(hidden_layers=[64, 32], env_name=\"BipedalWalker-v3\")\n",
        "temp_w = np.zeros((4, 64))\n",
        "temp_b = np.zeros(64)\n",
        "r = enn.add_random_noise([temp_w, temp_b])"
      ]
    },
    {
      "cell_type": "code",
      "execution_count": 17,
      "metadata": {},
      "outputs": [
        {
          "data": {
            "text/plain": [
              "-92.92700834687453"
            ]
          },
          "execution_count": 17,
          "metadata": {},
          "output_type": "execute_result"
        }
      ],
      "source": [
        "enn.simulate(steps=SIMULATION_STEPS, render=True)"
      ]
    },
    {
      "cell_type": "code",
      "execution_count": null,
      "metadata": {
        "id": "Y-cOJMSZNy30"
      },
      "outputs": [],
      "source": [
        "class GA ():\n",
        "    def __init__(self, models_list, rewards_list, elite_ratio=0.2):\n",
        "        self.__models = np.array(models_list)\n",
        "        self.__rewards = np.array(rewards_list)\n",
        "        self.__elite_ratio = elite_ratio\n",
        "        self.__number_population = len(rewards_list)\n",
        "        self.__elites_models = None\n",
        "        self.__elites_rewards = None\n",
        "\n",
        "        self.__select_elite()\n",
        "\n",
        "    def __select_elite(self):\n",
        "        elite_slice = int(self.__elite_ratio * self.__number_population)\n",
        "        self.__elites_rewards = self.__rewards[self.__rewards.argsort()[\n",
        "            ::-1][:elite_slice]]\n",
        "        self.__elites_models = self.__models[self.__rewards.argsort()[\n",
        "            ::-1][:elite_slice]]\n",
        "\n",
        "    def create_new_population(self):\n",
        "        pass\n"
      ]
    },
    {
      "cell_type": "markdown",
      "metadata": {
        "id": "BkXRBzcBGpog"
      },
      "source": [
        "## Train Models with GA"
      ]
    },
    {
      "cell_type": "code",
      "execution_count": null,
      "metadata": {
        "colab": {
          "base_uri": "https://localhost:8080/"
        },
        "id": "m3kpEDNGGtHS",
        "outputId": "4fa26eca-4751-4b3a-d663-883cb21da928"
      },
      "outputs": [
        {
          "name": "stderr",
          "output_type": "stream",
          "text": [
            "\r  0%|          | 0/20 [00:00<?, ?it/s]/usr/local/lib/python3.7/dist-packages/gym/logger.py:30: UserWarning: \u001b[33mWARN: Box bound precision lowered by casting to float32\u001b[0m\n",
            "  warnings.warn(colorize('%s: %s'%('WARN', msg % args), 'yellow'))\n",
            "100%|██████████| 20/20 [02:26<00:00,  7.31s/it]\n"
          ]
        }
      ],
      "source": [
        "models = []\n",
        "rewards = []\n",
        "\n",
        "for n in tqdm(range(number_agent)):\n",
        "\n",
        "    temp_mod = Model()\n",
        "    models.append(temp_mod)\n",
        "\n",
        "    temp_mod.fit()\n",
        "    rewards.append(temp_mod.get_reward())\n"
      ]
    },
    {
      "cell_type": "code",
      "execution_count": 4,
      "metadata": {
        "id": "0-5HRdSyHN1C"
      },
      "outputs": [],
      "source": [
        "import gym\n",
        "\n",
        "env = gym.make('BipedalWalker-v3')\n",
        "env.reset()\n",
        "\n",
        "for _ in range(1000):\n",
        "    env.render()\n",
        "    env.step(env.action_space.sample())\n",
        "\n",
        "env.close()\n"
      ]
    }
  ],
  "metadata": {
    "accelerator": "GPU",
    "colab": {
      "collapsed_sections": [],
      "name": "GA.ipynb",
      "provenance": []
    },
    "interpreter": {
      "hash": "6e51fef59ada9ce62a442d7297f9fef1103f1123f1c1d2738b0b3396f43137e7"
    },
    "kernelspec": {
      "display_name": "Python 3.7.13 ('work')",
      "language": "python",
      "name": "python3"
    },
    "language_info": {
      "codemirror_mode": {
        "name": "ipython",
        "version": 3
      },
      "file_extension": ".py",
      "mimetype": "text/x-python",
      "name": "python",
      "nbconvert_exporter": "python",
      "pygments_lexer": "ipython3",
      "version": "3.7.13"
    }
  },
  "nbformat": 4,
  "nbformat_minor": 0
}
